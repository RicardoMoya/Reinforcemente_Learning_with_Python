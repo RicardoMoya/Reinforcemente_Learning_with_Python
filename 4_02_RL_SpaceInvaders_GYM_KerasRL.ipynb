{
 "cells": [
  {
   "cell_type": "code",
   "execution_count": 1,
   "id": "67e52b4d",
   "metadata": {},
   "outputs": [
    {
     "data": {
      "text/html": [
       "<style>.container { width:80% !important; }</style>"
      ],
      "text/plain": [
       "<IPython.core.display.HTML object>"
      ]
     },
     "metadata": {},
     "output_type": "display_data"
    }
   ],
   "source": [
    "from IPython.core.display import display, HTML\n",
    "display(HTML(\"<style>.container { width:80% !important; }</style>\"))\n",
    "\n",
    "# Filtramos los warnings\n",
    "import warnings\n",
    "warnings.filterwarnings(\"ignore\")\n",
    "\n",
    "# Forzar uso CPU en caso de dispones GPU en el PC\n",
    "import os \n",
    "os.environ['CUDA_VISIBLE_DEVICES'] = '-1'"
   ]
  },
  {
   "cell_type": "markdown",
   "id": "a1e7e068",
   "metadata": {},
   "source": [
    "# 4.2.- Juego Space Invaders de Open AI GYM (con Keras RL)\n",
    "\n",
    "\n",
    "* GYM de Open AI https://gym.openai.com/: Gym es un conjunto de herramientas para desarrollar y comparar algoritmos de Aprendizaje por Refuerzo (RL). Esta librería ofrece diferentes juegos (entornos) como los juegos de Atari en los que poder probar los algoritmos de RL.\n",
    "\n",
    "\n",
    "* Keras RL https://keras-rl.readthedocs.io/: keras-rl implementa algunos algoritmos de Aprendizaje por Refuerzo en Python y se integra con con Tensorflow-Keras. Además, keras-rl esta listo para su uso con OpenAI Gym, por lo que resulta sencillo evaluar mediante los juegos de GYM el rendimiento de los Algoritmos.\n",
    "\n",
    "<hr>\n",
    "\n",
    "## 1.- Instalación de las librerías (en un Python 3.7)"
   ]
  },
  {
   "cell_type": "code",
   "execution_count": 12,
   "id": "d0b15d7b",
   "metadata": {},
   "outputs": [
    {
     "name": "stdout",
     "output_type": "stream",
     "text": [
      "Requirement already satisfied: tensorflow==2.6.3 in c:\\users\\usuario\\anaconda3\\envs\\rl37\\lib\\site-packages (2.6.3)\n",
      "Requirement already satisfied: keras-preprocessing~=1.1.2 in c:\\users\\usuario\\appdata\\roaming\\python\\python37\\site-packages (from tensorflow==2.6.3) (1.1.2)\n",
      "Requirement already satisfied: h5py~=3.1.0 in c:\\users\\usuario\\appdata\\roaming\\python\\python37\\site-packages (from tensorflow==2.6.3) (3.1.0)\n",
      "Requirement already satisfied: keras<2.7,>=2.6.0 in c:\\users\\usuario\\appdata\\roaming\\python\\python37\\site-packages (from tensorflow==2.6.3) (2.6.0)\n",
      "Requirement already satisfied: flatbuffers~=1.12.0 in c:\\users\\usuario\\appdata\\roaming\\python\\python37\\site-packages (from tensorflow==2.6.3) (1.12)\n",
      "Requirement already satisfied: wrapt~=1.12.1 in c:\\users\\usuario\\anaconda3\\envs\\rl37\\lib\\site-packages (from tensorflow==2.6.3) (1.12.1)\n",
      "Requirement already satisfied: astunparse~=1.6.3 in c:\\users\\usuario\\appdata\\roaming\\python\\python37\\site-packages (from tensorflow==2.6.3) (1.6.3)\n",
      "Requirement already satisfied: absl-py~=0.10 in c:\\users\\usuario\\appdata\\roaming\\python\\python37\\site-packages (from tensorflow==2.6.3) (0.15.0)\n",
      "Requirement already satisfied: tensorboard<2.7,>=2.6.0 in c:\\users\\usuario\\anaconda3\\envs\\rl37\\lib\\site-packages (from tensorflow==2.6.3) (2.6.0)\n",
      "Requirement already satisfied: protobuf>=3.9.2 in c:\\users\\usuario\\appdata\\roaming\\python\\python37\\site-packages (from tensorflow==2.6.3) (3.20.0)\n",
      "Requirement already satisfied: clang~=5.0 in c:\\users\\usuario\\appdata\\roaming\\python\\python37\\site-packages (from tensorflow==2.6.3) (5.0)\n",
      "Requirement already satisfied: tensorflow-estimator<2.7,>=2.6.0 in c:\\users\\usuario\\anaconda3\\envs\\rl37\\lib\\site-packages (from tensorflow==2.6.3) (2.6.0)\n",
      "Requirement already satisfied: termcolor~=1.1.0 in c:\\users\\usuario\\appdata\\roaming\\python\\python37\\site-packages (from tensorflow==2.6.3) (1.1.0)\n",
      "Requirement already satisfied: grpcio<2.0,>=1.37.0 in c:\\users\\usuario\\appdata\\roaming\\python\\python37\\site-packages (from tensorflow==2.6.3) (1.44.0)\n",
      "Requirement already satisfied: typing-extensions<3.11,>=3.7 in c:\\users\\usuario\\appdata\\roaming\\python\\python37\\site-packages (from tensorflow==2.6.3) (3.7.4.3)\n",
      "Requirement already satisfied: six~=1.15.0 in c:\\users\\usuario\\appdata\\roaming\\python\\python37\\site-packages (from tensorflow==2.6.3) (1.15.0)\n",
      "Requirement already satisfied: gast==0.4.0 in c:\\users\\usuario\\appdata\\roaming\\python\\python37\\site-packages (from tensorflow==2.6.3) (0.4.0)\n",
      "Requirement already satisfied: numpy~=1.19.2 in c:\\users\\usuario\\appdata\\roaming\\python\\python37\\site-packages (from tensorflow==2.6.3) (1.19.5)\n",
      "Requirement already satisfied: wheel~=0.35 in c:\\users\\usuario\\anaconda3\\envs\\rl37\\lib\\site-packages (from tensorflow==2.6.3) (0.37.0)\n",
      "Requirement already satisfied: opt-einsum~=3.3.0 in c:\\users\\usuario\\appdata\\roaming\\python\\python37\\site-packages (from tensorflow==2.6.3) (3.3.0)\n",
      "Requirement already satisfied: google-pasta~=0.2 in c:\\users\\usuario\\appdata\\roaming\\python\\python37\\site-packages (from tensorflow==2.6.3) (0.2.0)\n",
      "Requirement already satisfied: cached-property in c:\\users\\usuario\\appdata\\roaming\\python\\python37\\site-packages (from h5py~=3.1.0->tensorflow==2.6.3) (1.5.2)\n",
      "Requirement already satisfied: setuptools>=41.0.0 in c:\\users\\usuario\\anaconda3\\envs\\rl37\\lib\\site-packages (from tensorboard<2.7,>=2.6.0->tensorflow==2.6.3) (58.0.4)\n",
      "Requirement already satisfied: tensorboard-plugin-wit>=1.6.0 in c:\\users\\usuario\\appdata\\roaming\\python\\python37\\site-packages (from tensorboard<2.7,>=2.6.0->tensorflow==2.6.3) (1.8.1)\n",
      "Requirement already satisfied: google-auth<2,>=1.6.3 in c:\\users\\usuario\\anaconda3\\envs\\rl37\\lib\\site-packages (from tensorboard<2.7,>=2.6.0->tensorflow==2.6.3) (1.35.0)\n",
      "Requirement already satisfied: werkzeug>=0.11.15 in c:\\users\\usuario\\anaconda3\\envs\\rl37\\lib\\site-packages (from tensorboard<2.7,>=2.6.0->tensorflow==2.6.3) (2.0.2)\n",
      "Requirement already satisfied: google-auth-oauthlib<0.5,>=0.4.1 in c:\\users\\usuario\\appdata\\roaming\\python\\python37\\site-packages (from tensorboard<2.7,>=2.6.0->tensorflow==2.6.3) (0.4.6)\n",
      "Requirement already satisfied: requests<3,>=2.21.0 in c:\\users\\usuario\\anaconda3\\envs\\rl37\\lib\\site-packages (from tensorboard<2.7,>=2.6.0->tensorflow==2.6.3) (2.26.0)\n",
      "Requirement already satisfied: tensorboard-data-server<0.7.0,>=0.6.0 in c:\\users\\usuario\\appdata\\roaming\\python\\python37\\site-packages (from tensorboard<2.7,>=2.6.0->tensorflow==2.6.3) (0.6.1)\n",
      "Requirement already satisfied: markdown>=2.6.8 in c:\\users\\usuario\\appdata\\roaming\\python\\python37\\site-packages (from tensorboard<2.7,>=2.6.0->tensorflow==2.6.3) (3.3.6)\n",
      "Requirement already satisfied: rsa<5,>=3.1.4 in c:\\users\\usuario\\appdata\\roaming\\python\\python37\\site-packages (from google-auth<2,>=1.6.3->tensorboard<2.7,>=2.6.0->tensorflow==2.6.3) (4.8)\n",
      "Requirement already satisfied: pyasn1-modules>=0.2.1 in c:\\users\\usuario\\appdata\\roaming\\python\\python37\\site-packages (from google-auth<2,>=1.6.3->tensorboard<2.7,>=2.6.0->tensorflow==2.6.3) (0.2.8)\n",
      "Requirement already satisfied: cachetools<5.0,>=2.0.0 in c:\\users\\usuario\\anaconda3\\envs\\rl37\\lib\\site-packages (from google-auth<2,>=1.6.3->tensorboard<2.7,>=2.6.0->tensorflow==2.6.3) (4.2.4)\n",
      "Requirement already satisfied: requests-oauthlib>=0.7.0 in c:\\users\\usuario\\appdata\\roaming\\python\\python37\\site-packages (from google-auth-oauthlib<0.5,>=0.4.1->tensorboard<2.7,>=2.6.0->tensorflow==2.6.3) (1.3.1)\n",
      "Requirement already satisfied: importlib-metadata>=4.4 in c:\\users\\usuario\\appdata\\roaming\\python\\python37\\site-packages (from markdown>=2.6.8->tensorboard<2.7,>=2.6.0->tensorflow==2.6.3) (4.11.3)\n",
      "Requirement already satisfied: zipp>=0.5 in c:\\users\\usuario\\anaconda3\\envs\\rl37\\lib\\site-packages (from importlib-metadata>=4.4->markdown>=2.6.8->tensorboard<2.7,>=2.6.0->tensorflow==2.6.3) (3.6.0)\n",
      "Requirement already satisfied: pyasn1<0.5.0,>=0.4.6 in c:\\users\\usuario\\appdata\\roaming\\python\\python37\\site-packages (from pyasn1-modules>=0.2.1->google-auth<2,>=1.6.3->tensorboard<2.7,>=2.6.0->tensorflow==2.6.3) (0.4.8)\n",
      "Requirement already satisfied: idna<4,>=2.5 in c:\\users\\usuario\\anaconda3\\envs\\rl37\\lib\\site-packages (from requests<3,>=2.21.0->tensorboard<2.7,>=2.6.0->tensorflow==2.6.3) (3.2)\n",
      "Requirement already satisfied: charset-normalizer~=2.0.0 in c:\\users\\usuario\\anaconda3\\envs\\rl37\\lib\\site-packages (from requests<3,>=2.21.0->tensorboard<2.7,>=2.6.0->tensorflow==2.6.3) (2.0.4)\n",
      "Requirement already satisfied: urllib3<1.27,>=1.21.1 in c:\\users\\usuario\\anaconda3\\envs\\rl37\\lib\\site-packages (from requests<3,>=2.21.0->tensorboard<2.7,>=2.6.0->tensorflow==2.6.3) (1.26.7)\n",
      "Requirement already satisfied: certifi>=2017.4.17 in c:\\users\\usuario\\anaconda3\\envs\\rl37\\lib\\site-packages (from requests<3,>=2.21.0->tensorboard<2.7,>=2.6.0->tensorflow==2.6.3) (2021.10.8)\n",
      "Requirement already satisfied: oauthlib>=3.0.0 in c:\\users\\usuario\\appdata\\roaming\\python\\python37\\site-packages (from requests-oauthlib>=0.7.0->google-auth-oauthlib<0.5,>=0.4.1->tensorboard<2.7,>=2.6.0->tensorflow==2.6.3) (3.2.0)\n",
      "Requirement already satisfied: keras-rl2 in c:\\users\\usuario\\anaconda3\\envs\\rl37\\lib\\site-packages (1.0.5)\n",
      "Requirement already satisfied: tensorflow in c:\\users\\usuario\\anaconda3\\envs\\rl37\\lib\\site-packages (from keras-rl2) (2.6.3)\n",
      "Requirement already satisfied: keras-preprocessing~=1.1.2 in c:\\users\\usuario\\appdata\\roaming\\python\\python37\\site-packages (from tensorflow->keras-rl2) (1.1.2)\n",
      "Requirement already satisfied: wheel~=0.35 in c:\\users\\usuario\\anaconda3\\envs\\rl37\\lib\\site-packages (from tensorflow->keras-rl2) (0.37.0)\n",
      "Requirement already satisfied: termcolor~=1.1.0 in c:\\users\\usuario\\appdata\\roaming\\python\\python37\\site-packages (from tensorflow->keras-rl2) (1.1.0)\n",
      "Requirement already satisfied: wrapt~=1.12.1 in c:\\users\\usuario\\anaconda3\\envs\\rl37\\lib\\site-packages (from tensorflow->keras-rl2) (1.12.1)\n",
      "Requirement already satisfied: absl-py~=0.10 in c:\\users\\usuario\\appdata\\roaming\\python\\python37\\site-packages (from tensorflow->keras-rl2) (0.15.0)\n",
      "Requirement already satisfied: gast==0.4.0 in c:\\users\\usuario\\appdata\\roaming\\python\\python37\\site-packages (from tensorflow->keras-rl2) (0.4.0)\n",
      "Requirement already satisfied: grpcio<2.0,>=1.37.0 in c:\\users\\usuario\\appdata\\roaming\\python\\python37\\site-packages (from tensorflow->keras-rl2) (1.44.0)\n",
      "Requirement already satisfied: flatbuffers~=1.12.0 in c:\\users\\usuario\\appdata\\roaming\\python\\python37\\site-packages (from tensorflow->keras-rl2) (1.12)\n",
      "Requirement already satisfied: tensorflow-estimator<2.7,>=2.6.0 in c:\\users\\usuario\\anaconda3\\envs\\rl37\\lib\\site-packages (from tensorflow->keras-rl2) (2.6.0)\n",
      "Requirement already satisfied: tensorboard<2.7,>=2.6.0 in c:\\users\\usuario\\anaconda3\\envs\\rl37\\lib\\site-packages (from tensorflow->keras-rl2) (2.6.0)\n",
      "Requirement already satisfied: keras<2.7,>=2.6.0 in c:\\users\\usuario\\appdata\\roaming\\python\\python37\\site-packages (from tensorflow->keras-rl2) (2.6.0)\n",
      "Requirement already satisfied: typing-extensions<3.11,>=3.7 in c:\\users\\usuario\\appdata\\roaming\\python\\python37\\site-packages (from tensorflow->keras-rl2) (3.7.4.3)\n",
      "Requirement already satisfied: protobuf>=3.9.2 in c:\\users\\usuario\\appdata\\roaming\\python\\python37\\site-packages (from tensorflow->keras-rl2) (3.20.0)\n",
      "Requirement already satisfied: h5py~=3.1.0 in c:\\users\\usuario\\appdata\\roaming\\python\\python37\\site-packages (from tensorflow->keras-rl2) (3.1.0)\n",
      "Requirement already satisfied: six~=1.15.0 in c:\\users\\usuario\\appdata\\roaming\\python\\python37\\site-packages (from tensorflow->keras-rl2) (1.15.0)\n",
      "Requirement already satisfied: numpy~=1.19.2 in c:\\users\\usuario\\appdata\\roaming\\python\\python37\\site-packages (from tensorflow->keras-rl2) (1.19.5)\n",
      "Requirement already satisfied: clang~=5.0 in c:\\users\\usuario\\appdata\\roaming\\python\\python37\\site-packages (from tensorflow->keras-rl2) (5.0)\n",
      "Requirement already satisfied: opt-einsum~=3.3.0 in c:\\users\\usuario\\appdata\\roaming\\python\\python37\\site-packages (from tensorflow->keras-rl2) (3.3.0)\n",
      "Requirement already satisfied: google-pasta~=0.2 in c:\\users\\usuario\\appdata\\roaming\\python\\python37\\site-packages (from tensorflow->keras-rl2) (0.2.0)\n",
      "Requirement already satisfied: astunparse~=1.6.3 in c:\\users\\usuario\\appdata\\roaming\\python\\python37\\site-packages (from tensorflow->keras-rl2) (1.6.3)\n",
      "Requirement already satisfied: cached-property in c:\\users\\usuario\\appdata\\roaming\\python\\python37\\site-packages (from h5py~=3.1.0->tensorflow->keras-rl2) (1.5.2)\n",
      "Requirement already satisfied: tensorboard-plugin-wit>=1.6.0 in c:\\users\\usuario\\appdata\\roaming\\python\\python37\\site-packages (from tensorboard<2.7,>=2.6.0->tensorflow->keras-rl2) (1.8.1)\n",
      "Requirement already satisfied: requests<3,>=2.21.0 in c:\\users\\usuario\\anaconda3\\envs\\rl37\\lib\\site-packages (from tensorboard<2.7,>=2.6.0->tensorflow->keras-rl2) (2.26.0)\n",
      "Requirement already satisfied: google-auth-oauthlib<0.5,>=0.4.1 in c:\\users\\usuario\\appdata\\roaming\\python\\python37\\site-packages (from tensorboard<2.7,>=2.6.0->tensorflow->keras-rl2) (0.4.6)\n",
      "Requirement already satisfied: tensorboard-data-server<0.7.0,>=0.6.0 in c:\\users\\usuario\\appdata\\roaming\\python\\python37\\site-packages (from tensorboard<2.7,>=2.6.0->tensorflow->keras-rl2) (0.6.1)\n",
      "Requirement already satisfied: google-auth<2,>=1.6.3 in c:\\users\\usuario\\anaconda3\\envs\\rl37\\lib\\site-packages (from tensorboard<2.7,>=2.6.0->tensorflow->keras-rl2) (1.35.0)\n",
      "Requirement already satisfied: werkzeug>=0.11.15 in c:\\users\\usuario\\anaconda3\\envs\\rl37\\lib\\site-packages (from tensorboard<2.7,>=2.6.0->tensorflow->keras-rl2) (2.0.2)\n",
      "Requirement already satisfied: markdown>=2.6.8 in c:\\users\\usuario\\appdata\\roaming\\python\\python37\\site-packages (from tensorboard<2.7,>=2.6.0->tensorflow->keras-rl2) (3.3.6)\n",
      "Requirement already satisfied: setuptools>=41.0.0 in c:\\users\\usuario\\anaconda3\\envs\\rl37\\lib\\site-packages (from tensorboard<2.7,>=2.6.0->tensorflow->keras-rl2) (58.0.4)\n",
      "Requirement already satisfied: rsa<5,>=3.1.4 in c:\\users\\usuario\\appdata\\roaming\\python\\python37\\site-packages (from google-auth<2,>=1.6.3->tensorboard<2.7,>=2.6.0->tensorflow->keras-rl2) (4.8)\n",
      "Requirement already satisfied: pyasn1-modules>=0.2.1 in c:\\users\\usuario\\appdata\\roaming\\python\\python37\\site-packages (from google-auth<2,>=1.6.3->tensorboard<2.7,>=2.6.0->tensorflow->keras-rl2) (0.2.8)\n",
      "Requirement already satisfied: cachetools<5.0,>=2.0.0 in c:\\users\\usuario\\anaconda3\\envs\\rl37\\lib\\site-packages (from google-auth<2,>=1.6.3->tensorboard<2.7,>=2.6.0->tensorflow->keras-rl2) (4.2.4)\n",
      "Requirement already satisfied: requests-oauthlib>=0.7.0 in c:\\users\\usuario\\appdata\\roaming\\python\\python37\\site-packages (from google-auth-oauthlib<0.5,>=0.4.1->tensorboard<2.7,>=2.6.0->tensorflow->keras-rl2) (1.3.1)\n",
      "Requirement already satisfied: importlib-metadata>=4.4 in c:\\users\\usuario\\appdata\\roaming\\python\\python37\\site-packages (from markdown>=2.6.8->tensorboard<2.7,>=2.6.0->tensorflow->keras-rl2) (4.11.3)\n",
      "Requirement already satisfied: zipp>=0.5 in c:\\users\\usuario\\anaconda3\\envs\\rl37\\lib\\site-packages (from importlib-metadata>=4.4->markdown>=2.6.8->tensorboard<2.7,>=2.6.0->tensorflow->keras-rl2) (3.6.0)\n",
      "Requirement already satisfied: pyasn1<0.5.0,>=0.4.6 in c:\\users\\usuario\\appdata\\roaming\\python\\python37\\site-packages (from pyasn1-modules>=0.2.1->google-auth<2,>=1.6.3->tensorboard<2.7,>=2.6.0->tensorflow->keras-rl2) (0.4.8)\n",
      "Requirement already satisfied: urllib3<1.27,>=1.21.1 in c:\\users\\usuario\\anaconda3\\envs\\rl37\\lib\\site-packages (from requests<3,>=2.21.0->tensorboard<2.7,>=2.6.0->tensorflow->keras-rl2) (1.26.7)\n",
      "Requirement already satisfied: idna<4,>=2.5 in c:\\users\\usuario\\anaconda3\\envs\\rl37\\lib\\site-packages (from requests<3,>=2.21.0->tensorboard<2.7,>=2.6.0->tensorflow->keras-rl2) (3.2)\n",
      "Requirement already satisfied: certifi>=2017.4.17 in c:\\users\\usuario\\anaconda3\\envs\\rl37\\lib\\site-packages (from requests<3,>=2.21.0->tensorboard<2.7,>=2.6.0->tensorflow->keras-rl2) (2021.10.8)\n",
      "Requirement already satisfied: charset-normalizer~=2.0.0 in c:\\users\\usuario\\anaconda3\\envs\\rl37\\lib\\site-packages (from requests<3,>=2.21.0->tensorboard<2.7,>=2.6.0->tensorflow->keras-rl2) (2.0.4)\n",
      "Requirement already satisfied: oauthlib>=3.0.0 in c:\\users\\usuario\\appdata\\roaming\\python\\python37\\site-packages (from requests-oauthlib>=0.7.0->google-auth-oauthlib<0.5,>=0.4.1->tensorboard<2.7,>=2.6.0->tensorflow->keras-rl2) (3.2.0)\n"
     ]
    },
    {
     "name": "stdout",
     "output_type": "stream",
     "text": [
      "Requirement already satisfied: atari_py in c:\\users\\usuario\\appdata\\roaming\\python\\python37\\site-packages (0.2.6)\n",
      "Requirement already satisfied: six in c:\\users\\usuario\\appdata\\roaming\\python\\python37\\site-packages (from atari_py) (1.15.0)\n",
      "Requirement already satisfied: numpy in c:\\users\\usuario\\appdata\\roaming\\python\\python37\\site-packages (from atari_py) (1.19.5)\n",
      "Collecting gym[accept-rom-license,atari]==0.23.0\n",
      "  Using cached gym-0.23.0-py3-none-any.whl\n",
      "Requirement already satisfied: importlib-metadata>=4.10.0 in c:\\users\\usuario\\appdata\\roaming\\python\\python37\\site-packages (from gym[accept-rom-license,atari]==0.23.0) (4.11.3)\n",
      "Requirement already satisfied: numpy>=1.18.0 in c:\\users\\usuario\\appdata\\roaming\\python\\python37\\site-packages (from gym[accept-rom-license,atari]==0.23.0) (1.19.5)\n",
      "Requirement already satisfied: gym-notices>=0.0.4 in c:\\users\\usuario\\appdata\\roaming\\python\\python37\\site-packages (from gym[accept-rom-license,atari]==0.23.0) (0.0.6)\n",
      "Requirement already satisfied: cloudpickle>=1.2.0 in c:\\users\\usuario\\appdata\\roaming\\python\\python37\\site-packages (from gym[accept-rom-license,atari]==0.23.0) (1.6.0)\n",
      "Requirement already satisfied: ale-py~=0.7.4 in c:\\users\\usuario\\appdata\\roaming\\python\\python37\\site-packages (from gym[accept-rom-license,atari]==0.23.0) (0.7.5)\n",
      "Requirement already satisfied: autorom[accept-rom-license]~=0.4.2 in c:\\users\\usuario\\appdata\\roaming\\python\\python37\\site-packages (from gym[accept-rom-license,atari]==0.23.0) (0.4.2)\n",
      "Requirement already satisfied: importlib-resources in c:\\users\\usuario\\appdata\\roaming\\python\\python37\\site-packages (from ale-py~=0.7.4->gym[accept-rom-license,atari]==0.23.0) (5.7.1)\n",
      "Requirement already satisfied: requests in c:\\users\\usuario\\anaconda3\\envs\\rl37\\lib\\site-packages (from autorom[accept-rom-license]~=0.4.2->gym[accept-rom-license,atari]==0.23.0) (2.26.0)\n",
      "Requirement already satisfied: click in c:\\users\\usuario\\anaconda3\\envs\\rl37\\lib\\site-packages (from autorom[accept-rom-license]~=0.4.2->gym[accept-rom-license,atari]==0.23.0) (8.0.3)\n",
      "Requirement already satisfied: tqdm in c:\\users\\usuario\\anaconda3\\envs\\rl37\\lib\\site-packages (from autorom[accept-rom-license]~=0.4.2->gym[accept-rom-license,atari]==0.23.0) (4.62.3)\n",
      "Requirement already satisfied: AutoROM.accept-rom-license in c:\\users\\usuario\\appdata\\roaming\\python\\python37\\site-packages (from autorom[accept-rom-license]~=0.4.2->gym[accept-rom-license,atari]==0.23.0) (0.4.2)\n",
      "Requirement already satisfied: typing-extensions>=3.6.4 in c:\\users\\usuario\\appdata\\roaming\\python\\python37\\site-packages (from importlib-metadata>=4.10.0->gym[accept-rom-license,atari]==0.23.0) (3.7.4.3)\n",
      "Requirement already satisfied: zipp>=0.5 in c:\\users\\usuario\\anaconda3\\envs\\rl37\\lib\\site-packages (from importlib-metadata>=4.10.0->gym[accept-rom-license,atari]==0.23.0) (3.6.0)\n",
      "Requirement already satisfied: colorama in c:\\users\\usuario\\anaconda3\\envs\\rl37\\lib\\site-packages (from click->autorom[accept-rom-license]~=0.4.2->gym[accept-rom-license,atari]==0.23.0) (0.4.4)\n",
      "Requirement already satisfied: idna<4,>=2.5 in c:\\users\\usuario\\anaconda3\\envs\\rl37\\lib\\site-packages (from requests->autorom[accept-rom-license]~=0.4.2->gym[accept-rom-license,atari]==0.23.0) (3.2)\n",
      "Requirement already satisfied: certifi>=2017.4.17 in c:\\users\\usuario\\anaconda3\\envs\\rl37\\lib\\site-packages (from requests->autorom[accept-rom-license]~=0.4.2->gym[accept-rom-license,atari]==0.23.0) (2021.10.8)\n",
      "Requirement already satisfied: urllib3<1.27,>=1.21.1 in c:\\users\\usuario\\anaconda3\\envs\\rl37\\lib\\site-packages (from requests->autorom[accept-rom-license]~=0.4.2->gym[accept-rom-license,atari]==0.23.0) (1.26.7)\n",
      "Requirement already satisfied: charset-normalizer~=2.0.0 in c:\\users\\usuario\\anaconda3\\envs\\rl37\\lib\\site-packages (from requests->autorom[accept-rom-license]~=0.4.2->gym[accept-rom-license,atari]==0.23.0) (2.0.4)\n",
      "Installing collected packages: gym\n",
      "Successfully installed gym-0.23.0\n"
     ]
    }
   ],
   "source": [
    "!pip3 install tensorflow==2.6.3 --user\n",
    "!pip3 install keras-rl2 --user\n",
    "!pip3 install atari_py --user\n",
    "!pip3 install gym[atari,accept-rom-license]==0.23.0 --user"
   ]
  },
  {
   "cell_type": "markdown",
   "id": "f4a6074f",
   "metadata": {},
   "source": [
    "<hr>\n",
    "\n",
    "## 2.- Importamos la librería de GYM y atari"
   ]
  },
  {
   "cell_type": "code",
   "execution_count": 13,
   "id": "d53de12b",
   "metadata": {},
   "outputs": [],
   "source": [
    "import atari_py\n",
    "import gym\n",
    "\n",
    "# Definición de constantes\n",
    "ENVIRONMENT_NAME = 'SpaceInvaders-v0'\n",
    "FILE_MODEL_NAME = \"Keras_SpaceInvaders_Model\""
   ]
  },
  {
   "cell_type": "markdown",
   "id": "4c480dd2",
   "metadata": {},
   "source": [
    "<hr>\n",
    "\n",
    "## 3.- Instanciamos el entorno del Space Invaders y jugamos con un agente que toma acciones aleatorias"
   ]
  },
  {
   "cell_type": "code",
   "execution_count": 38,
   "id": "6161e7f5",
   "metadata": {},
   "outputs": [
    {
     "name": "stdout",
     "output_type": "stream",
     "text": [
      "Tamaño de la imagen: 160x210 - Nº Canales: 3\n",
      "\n",
      "Nº de acciones: 6 - Acciones: ['NOOP', 'FIRE', 'RIGHT', 'LEFT', 'RIGHTFIRE', 'LEFTFIRE']\n",
      "\n",
      "Episode:1 Score:80.0\n",
      "Episode:2 Score:125.0\n",
      "Episode:3 Score:45.0\n",
      "Episode:4 Score:210.0\n",
      "Episode:5 Score:35.0\n"
     ]
    }
   ],
   "source": [
    "# Instanciamos el Entorno\n",
    "env = gym.make(ENVIRONMENT_NAME)\n",
    "\n",
    "# Obtenemos el tamaño de las imagenes del juego y los canales\n",
    "height, width, n_channels = env.observation_space.shape\n",
    "print('Tamaño de la imagen: {}x{} - Nº Canales: {}'.format(width, height, n_channels))\n",
    "\n",
    "# Vemos las posibles acciones del juego:\n",
    "n_actions = env.action_space.n\n",
    "actions_info = env.unwrapped.get_action_meanings()\n",
    "print('\\nNº de acciones: {} - Acciones: {}\\n'.format(n_actions, actions_info))\n",
    "\n",
    "# Jugamos 5 partidas de manera aleatoria\n",
    "episodes = 5\n",
    "for episode in range(1, episodes+1):\n",
    "    state = env.reset()  # Inicializamos el entorno\n",
    "    done = False         # Flag de finalización de la partida (episodio)\n",
    "    score = 0            # Contador de recompensas\n",
    "    \n",
    "    # ! A Jugar ¡ (Hasta que termine la partida -> done == True)\n",
    "    while not done:\n",
    "        env.render(mode='human')\n",
    "        action = env.action_space.sample()              # Seleccionamos una acción Aleatoria\n",
    "        n_state, reward, done, info = env.step(action)  # Realizamos la acción aleatoria y obtenemos: \n",
    "                                                        # 1. Lista de estados, 2. Recompensa, 3. ¿Fin del juego?, 4. info\n",
    "        score+=reward                                   # Sumamos la recompensa de la acción\n",
    "    print('Episode:{} Score:{}'.format(episode, score))\n",
    "env.close()\n"
   ]
  },
  {
   "cell_type": "markdown",
   "id": "9b18fc64",
   "metadata": {},
   "source": [
    "<hr>\n",
    "\n",
    "## 4.- Creamos un modelo de red neuronal convolucional\n",
    "\n",
    "\n",
    "* Para tomar las acciones vamos a usar una red neuronal convolucional que:\n",
    "\n",
    "    + Tomará como entrada la imagen de la partida (Alto de 210px, Ancho de 160px y 3 canales)\n",
    "    + La capa de salida tendrá 6 Neuronas, 1 por posible acción"
   ]
  },
  {
   "cell_type": "code",
   "execution_count": 44,
   "id": "660b199d",
   "metadata": {},
   "outputs": [
    {
     "name": "stdout",
     "output_type": "stream",
     "text": [
      "Model: \"sequential_3\"\n",
      "_________________________________________________________________\n",
      "Layer (type)                 Output Shape              Param #   \n",
      "=================================================================\n",
      "conv2d_7 (Conv2D)            (None, 3, 51, 39, 32)     6176      \n",
      "_________________________________________________________________\n",
      "conv2d_8 (Conv2D)            (None, 3, 24, 18, 64)     32832     \n",
      "_________________________________________________________________\n",
      "flatten_3 (Flatten)          (None, 82944)             0         \n",
      "_________________________________________________________________\n",
      "dense_11 (Dense)             (None, 512)               42467840  \n",
      "_________________________________________________________________\n",
      "dense_12 (Dense)             (None, 256)               131328    \n",
      "_________________________________________________________________\n",
      "dense_13 (Dense)             (None, 6)                 1542      \n",
      "=================================================================\n",
      "Total params: 42,639,718\n",
      "Trainable params: 42,639,718\n",
      "Non-trainable params: 0\n",
      "_________________________________________________________________\n"
     ]
    }
   ],
   "source": [
    "import numpy as np\n",
    "from tensorflow.keras.models import Sequential\n",
    "from tensorflow.keras.layers import Dense, Flatten, Convolution2D\n",
    "from tensorflow.keras.optimizers import Adam\n",
    "\n",
    "model = Sequential()\n",
    "model.add(Convolution2D(filters=32, \n",
    "                        kernel_size=(8,8), \n",
    "                        strides=(4,4), \n",
    "                        activation='relu', \n",
    "                        input_shape=(3, height, width, channels)))\n",
    "model.add(Convolution2D(filters=64, \n",
    "                        kernel_size=(4,4), \n",
    "                        strides=(2,2), \n",
    "                        activation='relu'))\n",
    "# model.add(Convolution2D(64, (3,3), activation='relu'))\n",
    "model.add(Flatten())\n",
    "model.add(Dense(512, activation='relu'))\n",
    "model.add(Dense(256, activation='relu'))\n",
    "model.add(Dense(n_actions, activation='linear'))\n",
    "\n",
    "model.summary()"
   ]
  },
  {
   "cell_type": "markdown",
   "id": "09ea0730",
   "metadata": {},
   "source": [
    "<hr>\n",
    "\n",
    "## 5.- Construimos el agente con Keral RL"
   ]
  },
  {
   "cell_type": "code",
   "execution_count": 45,
   "id": "b8730ac8",
   "metadata": {},
   "outputs": [
    {
     "name": "stdout",
     "output_type": "stream",
     "text": [
      "Training for 1000 steps ...\n",
      " 556/1000: episode: 1, duration: 16.076s, episode steps: 556, steps per second:  35, episode reward: 105.000, mean reward:  0.189 [ 0.000, 30.000], mean action: 2.394 [0.000, 5.000],  loss: --, mean_q: --, mean_eps: --\n",
      " 944/1000: episode: 2, duration: 11.072s, episode steps: 388, steps per second:  35, episode reward: 55.000, mean reward:  0.142 [ 0.000, 20.000], mean action: 2.621 [0.000, 5.000],  loss: --, mean_q: --, mean_eps: --\n",
      "done, took 28.779 seconds\n"
     ]
    },
    {
     "data": {
      "text/plain": [
       "<keras.callbacks.History at 0x1c4304c4988>"
      ]
     },
     "execution_count": 45,
     "metadata": {},
     "output_type": "execute_result"
    }
   ],
   "source": [
    "from rl.agents import DQNAgent\n",
    "from rl.memory import SequentialMemory\n",
    "from rl.policy import LinearAnnealedPolicy, EpsGreedyQPolicy\n",
    "\n",
    "\n",
    "memory = SequentialMemory(limit=1000, window_length=3)\n",
    "policy = LinearAnnealedPolicy(EpsGreedyQPolicy(), attr='eps', value_max=1., value_min=.1, value_test=.2, nb_steps=10000)\n",
    "dqn = DQNAgent(model=model, \n",
    "               memory=memory, \n",
    "               policy=policy,\n",
    "               enable_dueling_network=True, \n",
    "               nb_actions=actions, \n",
    "               nb_steps_warmup=1000)\n",
    "dqn.compile(Adam(lr=1e-4))\n",
    "dqn.fit(env, nb_steps=1000, visualize=False, verbose=2)"
   ]
  },
  {
   "cell_type": "code",
   "execution_count": 46,
   "id": "0458db49",
   "metadata": {},
   "outputs": [
    {
     "name": "stdout",
     "output_type": "stream",
     "text": [
      "Testing for 10 episodes ...\n",
      "Episode 1: reward: 155.000, steps: 986\n",
      "Episode 2: reward: 120.000, steps: 682\n",
      "Episode 3: reward: 85.000, steps: 630\n",
      "Episode 4: reward: 85.000, steps: 919\n",
      "Episode 5: reward: 125.000, steps: 701\n",
      "Episode 6: reward: 55.000, steps: 507\n",
      "Episode 7: reward: 200.000, steps: 961\n",
      "Episode 8: reward: 5.000, steps: 388\n",
      "Episode 9: reward: 30.000, steps: 610\n",
      "Episode 10: reward: 30.000, steps: 513\n",
      "89.0\n"
     ]
    }
   ],
   "source": [
    "scores = dqn.test(env, nb_episodes=10, visualize=True)\n",
    "print(np.mean(scores.history['episode_reward']))"
   ]
  },
  {
   "cell_type": "markdown",
   "id": "8c8cd5a2",
   "metadata": {},
   "source": [
    "<hr>\n",
    "\n",
    "## 6.- Exportamos el agente entrenado"
   ]
  },
  {
   "cell_type": "code",
   "execution_count": null,
   "id": "7ba5ad84",
   "metadata": {},
   "outputs": [],
   "source": []
  },
  {
   "cell_type": "markdown",
   "id": "3658479d",
   "metadata": {},
   "source": [
    "<hr>\n",
    "\n",
    "## 7.- Importamos el modelo (agente) y Jugamos"
   ]
  },
  {
   "cell_type": "code",
   "execution_count": null,
   "id": "f5045feb",
   "metadata": {},
   "outputs": [],
   "source": []
  }
 ],
 "metadata": {
  "kernelspec": {
   "display_name": "Python 3 (ipykernel)",
   "language": "python",
   "name": "python3"
  },
  "language_info": {
   "codemirror_mode": {
    "name": "ipython",
    "version": 3
   },
   "file_extension": ".py",
   "mimetype": "text/x-python",
   "name": "python",
   "nbconvert_exporter": "python",
   "pygments_lexer": "ipython3",
   "version": "3.7.11"
  }
 },
 "nbformat": 4,
 "nbformat_minor": 5
}
